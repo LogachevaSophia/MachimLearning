{
 "cells": [
  {
   "cell_type": "code",
   "execution_count": 4,
   "id": "8b0e9785",
   "metadata": {},
   "outputs": [
    {
     "name": "stdout",
     "output_type": "stream",
     "text": [
      "4\n",
      "ABAB\n",
      "True\n",
      "GOGO\n",
      "True\n",
      "FIRE\n",
      "False\n",
      "WAPP\n",
      "False\n"
     ]
    }
   ],
   "source": [
    "T = int(input())\n",
    "\n",
    "for i in range (T):\n",
    "    dic = {}\n",
    "    s = input()\n",
    "    for j in range(len(s)):\n",
    "        if s[j] not in dic:\n",
    "            dic[s[j]] = 1\n",
    "        else:\n",
    "            dic[s[j]] +=1\n",
    "    fl = True\n",
    "    if (len(dic))!=2:\n",
    "        fl=False\n",
    "    else:\n",
    "        \n",
    "        for j in dic:\n",
    "            if dic[j]!=2:\n",
    "                fl = False\n",
    "    print(fl)\n",
    "    "
   ]
  },
  {
   "cell_type": "code",
   "execution_count": null,
   "id": "e3602078",
   "metadata": {},
   "outputs": [],
   "source": []
  }
 ],
 "metadata": {
  "kernelspec": {
   "display_name": "Python 3 (ipykernel)",
   "language": "python",
   "name": "python3"
  },
  "language_info": {
   "codemirror_mode": {
    "name": "ipython",
    "version": 3
   },
   "file_extension": ".py",
   "mimetype": "text/x-python",
   "name": "python",
   "nbconvert_exporter": "python",
   "pygments_lexer": "ipython3",
   "version": "3.9.5"
  }
 },
 "nbformat": 4,
 "nbformat_minor": 5
}
